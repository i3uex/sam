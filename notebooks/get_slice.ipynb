{
 "cells": [
  {
   "cell_type": "markdown",
   "source": [
    "# Saving Slices"
   ],
   "metadata": {
    "collapsed": false
   }
  },
  {
   "cell_type": "markdown",
   "source": [
    "In this notebook we will take the needed steps to obtain a slice from both the CT and the masks images, in NIfTI format. The resulting slices will be stored as NumPy arrays, with no modifications at all.\n",
    "\n",
    "Before executing this notebook, make sure you've downloaded the corresponding dataset. You can find the steps to do so in this project's **README.md** file.\n",
    "\n",
    "First of all, import these libraries, both the CT and the masks export process need them:"
   ],
   "metadata": {
    "collapsed": false
   }
  },
  {
   "cell_type": "code",
   "execution_count": 1,
   "metadata": {
    "collapsed": true,
    "ExecuteTime": {
     "end_time": "2023-05-03T08:48:16.457068Z",
     "start_time": "2023-05-03T08:48:16.274243800Z"
    }
   },
   "outputs": [],
   "source": [
    "from pathlib import Path\n",
    "import nibabel as nib\n",
    "import numpy as np"
   ]
  },
  {
   "cell_type": "markdown",
   "source": [
    "These variables store the values needed to perform the task, that is, the location of the dataset folder, the name of the CT and masks image files, and the number of the slice we are interested in:"
   ],
   "metadata": {
    "collapsed": false
   }
  },
  {
   "cell_type": "code",
   "execution_count": 2,
   "outputs": [],
   "source": [
    "dataset_path = Path('../datasets/zenodo/')\n",
    "image_path = Path('COVID-19-CT-Seg_20cases/radiopaedia_14_85914_0.nii.gz')\n",
    "masks_path = Path('Lung_Mask/radiopaedia_14_85914_0.nii.gz')\n",
    "slice_number = 0\n",
    "data_folder_path = Path('data')"
   ],
   "metadata": {
    "collapsed": false,
    "ExecuteTime": {
     "end_time": "2023-05-03T08:48:22.425058400Z",
     "start_time": "2023-05-03T08:48:22.425058400Z"
    }
   }
  },
  {
   "cell_type": "markdown",
   "source": [
    "Now, let's load the CT image file:"
   ],
   "metadata": {
    "collapsed": false
   }
  },
  {
   "cell_type": "code",
   "execution_count": 3,
   "outputs": [
    {
     "name": "stdout",
     "output_type": "stream",
     "text": [
      "Image shape: (630, 401, 110)\n",
      "Image voxel axes orientations: ('L', 'A', 'S')\n"
     ]
    }
   ],
   "source": [
    "image = nib.load(dataset_path / image_path)\n",
    "print(f'Image shape: {image.shape}')\n",
    "print(f'Image voxel axes orientations: {nib.aff2axcodes(image.affine)}')"
   ],
   "metadata": {
    "collapsed": false,
    "ExecuteTime": {
     "end_time": "2023-05-03T08:48:27.103920200Z",
     "start_time": "2023-05-03T08:48:27.072673Z"
    }
   }
  },
  {
   "cell_type": "markdown",
   "source": [
    "Let's get the slice from a proxy object to avoid loading the whole image into memory:"
   ],
   "metadata": {
    "collapsed": false
   }
  },
  {
   "cell_type": "code",
   "execution_count": 4,
   "outputs": [
    {
     "name": "stdout",
     "output_type": "stream",
     "text": [
      "Image slice shape: (630, 401)\n"
     ]
    }
   ],
   "source": [
    "image_slice = image.dataobj[..., slice_number]\n",
    "print(f'Image slice shape: {image_slice.shape}')"
   ],
   "metadata": {
    "collapsed": false,
    "ExecuteTime": {
     "end_time": "2023-05-03T08:49:41.260605800Z",
     "start_time": "2023-05-03T08:49:41.244987600Z"
    }
   }
  },
  {
   "cell_type": "markdown",
   "source": [
    "Now we can save the slice we are interested in:"
   ],
   "metadata": {
    "collapsed": false
   }
  },
  {
   "cell_type": "code",
   "execution_count": 5,
   "outputs": [
    {
     "name": "stdout",
     "output_type": "stream",
     "text": [
      "Image slice output path: \"data/radiopaedia_14_85914_0_image_slice_0.npy\"\n"
     ]
    }
   ],
   "source": [
    "image_slice_output_filename = f'{image_path.with_suffix(\"\").stem}_image_slice_{slice_number}'\n",
    "image_slice_output_path = data_folder_path / Path(image_slice_output_filename).with_suffix('.npy')\n",
    "print(f'Image slice output path: \"{image_slice_output_path}\"')\n",
    "np.save(image_slice_output_path, image_slice)"
   ],
   "metadata": {
    "collapsed": false,
    "ExecuteTime": {
     "end_time": "2023-05-03T08:50:06.465313200Z",
     "start_time": "2023-05-03T08:50:06.402787900Z"
    }
   }
  },
  {
   "cell_type": "markdown",
   "source": [
    "Let's repeat the same process, now without interruptions, for the masks slice:"
   ],
   "metadata": {
    "collapsed": false
   }
  },
  {
   "cell_type": "code",
   "execution_count": 6,
   "outputs": [
    {
     "name": "stdout",
     "output_type": "stream",
     "text": [
      "Masks shape: (630, 401, 110)\n",
      "Masks voxel axes orientations: ('L', 'A', 'S')\n",
      "Masks slice shape: (630, 401)\n",
      "Masks slice output path: \"data/radiopaedia_14_85914_0_masks_slice_0.npy\"\n"
     ]
    }
   ],
   "source": [
    "masks = nib.load(dataset_path / masks_path)\n",
    "print(f'Masks shape: {masks.shape}')\n",
    "print(f'Masks voxel axes orientations: {nib.aff2axcodes(masks.affine)}')\n",
    "masks_slice = masks.dataobj[..., slice_number]\n",
    "print(f'Masks slice shape: {masks_slice.shape}')\n",
    "masks_slice_output_filename = f'{masks_path.with_suffix(\"\").stem}_masks_slice_{slice_number}'\n",
    "masks_slice_output_path = data_folder_path / Path(masks_slice_output_filename).with_suffix('.npy')\n",
    "print(f'Masks slice output path: \"{masks_slice_output_path}\"')\n",
    "np.save(masks_slice_output_path, masks_slice)"
   ],
   "metadata": {
    "collapsed": false,
    "ExecuteTime": {
     "end_time": "2023-05-03T08:50:15.469657Z",
     "start_time": "2023-05-03T08:50:15.375274100Z"
    }
   }
  },
  {
   "cell_type": "code",
   "execution_count": 12,
   "outputs": [],
   "source": [],
   "metadata": {
    "collapsed": false,
    "ExecuteTime": {
     "start_time": "2023-04-21T09:50:53.171463Z",
     "end_time": "2023-04-21T09:50:53.218081Z"
    }
   }
  }
 ],
 "metadata": {
  "kernelspec": {
   "display_name": "Python 3",
   "language": "python",
   "name": "python3"
  },
  "language_info": {
   "codemirror_mode": {
    "name": "ipython",
    "version": 2
   },
   "file_extension": ".py",
   "mimetype": "text/x-python",
   "name": "python",
   "nbconvert_exporter": "python",
   "pygments_lexer": "ipython2",
   "version": "2.7.6"
  }
 },
 "nbformat": 4,
 "nbformat_minor": 0
}
